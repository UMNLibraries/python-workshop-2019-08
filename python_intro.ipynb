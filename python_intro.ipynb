{
 "cells": [
  {
   "cell_type": "markdown",
   "metadata": {},
   "source": [
    "# Introduction to Python\n",
    "\n",
    "## Data Management Boot Camp\n",
    "\n",
    "### August 19, 2019\n",
    "\n",
    "David Naughton  \n",
    "Web Development  \n",
    "UMN Libraries  \n",
    "naughton@umn.edu"
   ]
  },
  {
   "cell_type": "markdown",
   "metadata": {},
   "source": [
    "## Why Python?\n",
    "\n",
    "![xkcd: Python](https://imgs.xkcd.com/comics/python.png)  \n",
    "[xkcd.com/353/](https://xkcd.com/353/)"
   ]
  },
  {
   "cell_type": "markdown",
   "metadata": {},
   "source": [
    "## Why Python? Seriously...\n",
    "* Named after Monty Python's Flying Circus! (Sorry...)\n",
    "* Easy to learn and fun to use. Actually important.\n",
    "* Open source\n",
    "* Not only one of the most popular languages, extremely popular for research computing.\n",
    "\n",
    "\n"
   ]
  },
  {
   "cell_type": "markdown",
   "metadata": {},
   "source": [
    "## Why Python? pandas!\n",
    "* [pandas](https://pandas.pydata.org/) is a Python data analysis library. It's what makes Python competitive with R.\n",
    "* Includes the Python [SciPy](https://www.scipy.org/) package collection, which includes [NumPy](http://www.numpy.org/).\n"
   ]
  },
  {
   "cell_type": "markdown",
   "metadata": {},
   "source": [
    "## Why Python? Jupyter Notebooks!\n",
    "* Text, images, and _executable_ code, all in a single shareable object!\n",
    "* This workshop itself is a Jupyter Notebook.\n",
    "* GitHub renders them automatically: https://github.com/UMNLibraries/python-workshop-2019-08\n",
    "* Includes pandas by default.\n"
   ]
  },
  {
   "cell_type": "code",
   "execution_count": null,
   "metadata": {},
   "outputs": [],
   "source": [
    "import pandas as pd"
   ]
  },
  {
   "cell_type": "markdown",
   "metadata": {},
   "source": [
    "## Python 2 vs. 3\n",
    "Python 2 was released in 2000, and will fall out of support in 2020. pandas dropped Python 2 support in July. Python 3 was released in 2008, and is the future of the language. Use Python 3, unless you are using already-existing code in Python 2, or need a package (library) that does not support Python 3, a rare situation."
   ]
  },
  {
   "cell_type": "markdown",
   "metadata": {},
   "source": [
    "## Hello, World!\n",
    "This is a complete Python program:"
   ]
  },
  {
   "cell_type": "code",
   "execution_count": null,
   "metadata": {},
   "outputs": [],
   "source": [
    "print('Hello, World!')"
   ]
  },
  {
   "cell_type": "markdown",
   "metadata": {},
   "source": [
    "## HelloWorld.java\n",
    "```java\n",
    "public class HelloWorld {\n",
    "    public static void main(String[] args) {\n",
    "        System.out.println(\"Hello, World\");\n",
    "    }\n",
    "}\n",
    "```"
   ]
  },
  {
   "cell_type": "markdown",
   "metadata": {},
   "source": [
    "## Exercise: Lake Superior's Seiche\n",
    "A seiche is a standing wave in an enclosed or partially enclosed body of water.\n",
    "\n",
    "[Wikipedia: Seiche](https://en.wikipedia.org/wiki/Seiche)\n",
    "\n",
    "**Please note!** Some of what follows may seem contrived, because it is. Some things we would never do in a real project, but we do here to illustrate Python and programming concepts. As we advance through the exercise, we will get closer and closer to a real-world approach."
   ]
  },
  {
   "cell_type": "markdown",
   "metadata": {},
   "source": [
    "## Lake Superior Water Levels\n",
    "Get Lake Superior station number from [NOAA Great Lakes Low Water Datums](https://tidesandcurrents.noaa.gov/gldatums.html), then request an [International Great Lakes Datum (IGLD)](https://opendap.co-ops.nos.noaa.gov/axis/webservices/waterlevelrawsixmin/index.jsp)."
   ]
  },
  {
   "cell_type": "markdown",
   "metadata": {},
   "source": [
    "## Reading Files"
   ]
  },
  {
   "cell_type": "code",
   "execution_count": null,
   "metadata": {},
   "outputs": [],
   "source": [
    "with open('CO-OPS__9099064__wl.csv') as file:\n",
    "    for line in file:\n",
    "        print(line)"
   ]
  },
  {
   "cell_type": "markdown",
   "metadata": {},
   "source": [
    "## Whitespace is significant!\n",
    "What happens when we do this?"
   ]
  },
  {
   "cell_type": "code",
   "execution_count": null,
   "metadata": {},
   "outputs": [],
   "source": [
    "with open('CO-OPS__9099064__wl.csv') as file:\n",
    "    for line in file:\n",
    "    print(line)"
   ]
  },
  {
   "cell_type": "markdown",
   "metadata": {},
   "source": [
    "**Important note:** Four-space indentation is an extremely strong convention in the Python community."
   ]
  },
  {
   "cell_type": "markdown",
   "metadata": {},
   "source": [
    "## Variables"
   ]
  },
  {
   "cell_type": "code",
   "execution_count": null,
   "metadata": {},
   "outputs": [],
   "source": [
    "file_name = 'CO-OPS__9099064__wl.csv'\n",
    "with open(file_name) as file:\n",
    "    for line in file:\n",
    "        print(line)"
   ]
  },
  {
   "cell_type": "markdown",
   "metadata": {},
   "source": [
    "## Types & Objects\n",
    "Everything in Python is some _type_ of _object_. Objects contain _attributes_, usually data and related functions, called _methods_.\n",
    "\n",
    "Python is _dynamically typed_ because it determines these types at runtime."
   ]
  },
  {
   "cell_type": "code",
   "execution_count": null,
   "metadata": {},
   "outputs": [],
   "source": [
    "file_name = 'CO-OPS__9099064__wl.csv'\n",
    "print('file_name is a ', type(file_name))\n",
    "with open(file_name) as file:\n",
    "    print('file is a ', type(file))\n",
    "    for line in file:\n",
    "        print('line is a ', type(line))\n",
    "        print(f'line = {line}') # f-strings!\n",
    "        break"
   ]
  },
  {
   "cell_type": "markdown",
   "metadata": {},
   "source": [
    "## Strong Typing\n",
    "Python is also _strongly typed_. For example, some operations require operands of specific types.\n",
    "\n",
    "What happens when we do this?"
   ]
  },
  {
   "cell_type": "code",
   "execution_count": null,
   "metadata": {},
   "outputs": [],
   "source": [
    "file_name = 'CO-OPS__9099064__wl.csv'\n",
    "file_name + 3"
   ]
  },
  {
   "cell_type": "markdown",
   "metadata": {},
   "source": [
    "We'll come back to types, but first we'll cover some type differences that are conceptual, but not captured in Python types."
   ]
  },
  {
   "cell_type": "markdown",
   "metadata": {},
   "source": [
    "## Procedures\n",
    "Procedures give a name to some collection of actions. They do not return output."
   ]
  },
  {
   "cell_type": "code",
   "execution_count": null,
   "metadata": {},
   "outputs": [],
   "source": [
    "def print_lines(file_name):\n",
    "    with open(file_name) as file:\n",
    "        for line in file:\n",
    "            print(line)\n",
    "            #pass\n",
    "\n",
    "print('print_lines is a ', type(print_lines))\n",
    "            \n",
    "file_name = 'CO-OPS__9099064__wl.csv'            \n",
    "print_lines(file_name)\n",
    "#output = print_lines(file_name)\n",
    "#print(output)"
   ]
  },
  {
   "cell_type": "markdown",
   "metadata": {},
   "source": [
    "## Functions\n",
    "_Pure functions_ always return the same output for the same input."
   ]
  },
  {
   "cell_type": "code",
   "execution_count": null,
   "metadata": {},
   "outputs": [],
   "source": [
    "def file_to_list(file_name):\n",
    "    lines = [] # list\n",
    "    with open(file_name) as file:\n",
    "        for line in file:\n",
    "            lines.append(line) # append is a method (function) in the list class\n",
    "    return lines\n",
    "\n",
    "print('file_to_list is a ', type(file_to_list))\n",
    "            \n",
    "file_name = 'CO-OPS__9099064__wl.csv'\n",
    "lines = file_to_list(file_name)\n",
    "print(lines)\n"
   ]
  },
  {
   "cell_type": "markdown",
   "metadata": {},
   "source": [
    "## Named Arguments\n",
    "Python allows function arguments to have names. The syntax may be confusing at first!"
   ]
  },
  {
   "cell_type": "code",
   "execution_count": null,
   "metadata": {},
   "outputs": [],
   "source": [
    "def file_to_limited_list(file_name, limit):\n",
    "    lines = []\n",
    "    with open(file_name) as file:\n",
    "        for line in file:\n",
    "            lines.append(line)\n",
    "            if len(lines) == limit:\n",
    "                break\n",
    "    return lines\n",
    "    \n",
    "file_name = 'CO-OPS__9099064__wl.csv'\n",
    "limit = 3\n",
    "lines = file_to_limited_list(file_name, limit)\n",
    "#lines = file_to_limited_list(file_name=file_name, limit=limit)\n",
    "#lines = file_to_limited_list(limit=limit, file_name=file_name) # Helps to avoid incorrect argument order.\n",
    "#lines = file_to_limited_list(limit, file_name) # What happens when we do this?\n",
    "print(lines)"
   ]
  },
  {
   "cell_type": "markdown",
   "metadata": {},
   "source": [
    "## Functional Programming\n",
    "\n",
    "### (An even further diversion!)\n",
    "\n",
    "[_Functional programming (FP)_](https://en.wikipedia.org/wiki/Functional_programming) encourages using [_pure functions_](https://en.wikipedia.org/wiki/Pure_function), which always return the same output for the same input, without side effects. FP discourages unnecessary state and state changes.\n",
    "\n",
    "Is `print` a pure function?"
   ]
  },
  {
   "cell_type": "code",
   "execution_count": null,
   "metadata": {},
   "outputs": [],
   "source": [
    "output = print('Hello, World!')\n",
    "type(output)"
   ]
  },
  {
   "cell_type": "markdown",
   "metadata": {},
   "source": [
    "## FP vs. OOP\n",
    "Like most popular languages, Python supports both [_functional programming (FP)_](https://en.wikipedia.org/wiki/Functional_programming) and [_object-orientend programming (OOP)_](https://en.wikipedia.org/wiki/Object-oriented_programming).\n",
    "\n",
    "[_When is OOP better than FP and vice-versa?_](https://www.quora.com/Computer-Programming/When-is-OOP-better-than-FP-and-vice-versa) It depends. Here I focus on FP, because I find it a fast start and a good fit for research.\n",
    "\n",
    "OK, let's get back to types!"
   ]
  },
  {
   "cell_type": "markdown",
   "metadata": {},
   "source": [
    "## Lists, a.k.a. Arrays"
   ]
  },
  {
   "cell_type": "code",
   "execution_count": null,
   "metadata": {},
   "outputs": [],
   "source": [
    "file_name = 'CO-OPS__9099064__wl.csv'\n",
    "with open(file_name) as file:\n",
    "    for line in file:\n",
    "        row = line.strip().split(',') # split is a function that returns an array\n",
    "        print('row is a ', type(row))\n",
    "        print(row)\n",
    "        print(row[0], row[1])\n",
    "        break"
   ]
  },
  {
   "cell_type": "markdown",
   "metadata": {},
   "source": [
    "## What about the header?"
   ]
  },
  {
   "cell_type": "code",
   "execution_count": null,
   "metadata": {},
   "outputs": [],
   "source": [
    "file_name = 'CO-OPS__9099064__wl.csv'\n",
    "with open(file_name) as file:\n",
    "    line_count = -1\n",
    "    for line in file:\n",
    "        line_count = line_count + 1\n",
    "        if line_count == 0:\n",
    "            continue\n",
    "        row = line.strip().split(',')\n",
    "        print(row[0], row[1])"
   ]
  },
  {
   "cell_type": "markdown",
   "metadata": {},
   "source": [
    "## Python csv Package"
   ]
  },
  {
   "cell_type": "code",
   "execution_count": null,
   "metadata": {},
   "outputs": [],
   "source": [
    "import csv\n",
    "file_name = 'CO-OPS__9099064__wl.csv'\n",
    "with open(file_name) as file:\n",
    "    has_header = csv.Sniffer().has_header(file.read(1024))\n",
    "    file.seek(0)  # Rewind.\n",
    "    reader = csv.reader(file)\n",
    "    if has_header:\n",
    "        next(reader)  # Skip header row.\n",
    "    for row in reader:\n",
    "        print(row[0], row[1])\n",
    "        break"
   ]
  },
  {
   "cell_type": "markdown",
   "metadata": {},
   "source": [
    "## Dictionaries, a.k.a Associative Array, a.k.a, Hash Tables, a.k.a. Hashes"
   ]
  },
  {
   "cell_type": "code",
   "execution_count": null,
   "metadata": {},
   "outputs": [],
   "source": [
    "file_name = 'CO-OPS__9099064__wl.csv'\n",
    "with open(file_name) as file:\n",
    "    reader = csv.DictReader(file)\n",
    "    for row in reader:\n",
    "        print('row is a', type(row))\n",
    "        print(row)\n",
    "        print(row['date_time'], row['water_level'])\n",
    "        break"
   ]
  },
  {
   "cell_type": "markdown",
   "metadata": {},
   "source": [
    "## Doing stuff with water levels..."
   ]
  },
  {
   "cell_type": "code",
   "execution_count": null,
   "metadata": {},
   "outputs": [],
   "source": [
    "file_name = 'CO-OPS__9099064__wl.csv'\n",
    "with open(file_name) as file:\n",
    "    reader = csv.DictReader(file)\n",
    "    water_levels = []\n",
    "    for row in reader:\n",
    "        water_levels.append(row['water_level'])\n",
    "    water_levels_sum = sum(water_levels)"
   ]
  },
  {
   "cell_type": "markdown",
   "metadata": {},
   "source": [
    "## Will this fix our problem?"
   ]
  },
  {
   "cell_type": "code",
   "execution_count": null,
   "metadata": {},
   "outputs": [],
   "source": [
    "file_name = 'CO-OPS__9099064__wl.csv'\n",
    "with open(file_name) as file:\n",
    "    reader = csv.DictReader(file)\n",
    "    water_levels = []\n",
    "    for row in reader:\n",
    "        water_level = float(row['water_level'])\n",
    "        water_levels.append(water_level)\n",
    "    water_levels_sum = sum(water_levels)"
   ]
  },
  {
   "cell_type": "markdown",
   "metadata": {},
   "source": [
    "## Investigating further..."
   ]
  },
  {
   "cell_type": "code",
   "execution_count": null,
   "metadata": {},
   "outputs": [],
   "source": [
    "import re # regular expressions\n",
    "file_name = 'CO-OPS__9099064__wl.csv'\n",
    "with open(file_name) as file:\n",
    "    reader = csv.DictReader(file)\n",
    "    water_levels = []\n",
    "    for row in reader:\n",
    "        if not (re.match(r'^\\d+', row['water_level'])):\n",
    "            print('\"{}\"'.format(row['water_level']))\n",
    "            break\n",
    "        water_level = float(row['water_level'])\n",
    "        water_levels.append(water_level)\n",
    "    water_levels_sum = sum(water_levels)"
   ]
  },
  {
   "cell_type": "markdown",
   "metadata": {},
   "source": [
    "## pandas"
   ]
  },
  {
   "cell_type": "code",
   "execution_count": null,
   "metadata": {},
   "outputs": [],
   "source": [
    "import matplotlib\n",
    "%matplotlib inline\n",
    "import csv\n",
    "import pandas as pd"
   ]
  },
  {
   "cell_type": "markdown",
   "metadata": {},
   "source": [
    "### Dataframes"
   ]
  },
  {
   "cell_type": "code",
   "execution_count": null,
   "metadata": {},
   "outputs": [],
   "source": [
    "file_name = 'CO-OPS__9099064__wl.csv'\n",
    "df = pd.read_csv(\n",
    "    file_name,\n",
    "    header=0,\n",
    "    parse_dates=True,\n",
    "    float_precision='high', # Without this, pandas adds a ridiculous level of precision to some values.\n",
    ")"
   ]
  },
  {
   "cell_type": "markdown",
   "metadata": {},
   "source": [
    "### Matplotlib Axes Object"
   ]
  },
  {
   "cell_type": "code",
   "execution_count": null,
   "metadata": {},
   "outputs": [],
   "source": [
    "ax = df.plot(\n",
    "    x='date_time',\n",
    "    y='water_level',\n",
    "    title='Lake Superior Levels (IGLD 1985)',\n",
    "    legend=False,\n",
    ")"
   ]
  },
  {
   "cell_type": "markdown",
   "metadata": {},
   "source": [
    "### Labeling the Axes"
   ]
  },
  {
   "cell_type": "code",
   "execution_count": null,
   "metadata": {},
   "outputs": [],
   "source": [
    "ax = df.plot(\n",
    "    x='date_time',\n",
    "    y='water_level',\n",
    "    title='Lake Superior Levels (IGLD 1985)',\n",
    "    legend=False,\n",
    ")\n",
    "ax.set_xlabel('Days from June 26, 2017')\n",
    "ax.set_ylabel('Water Level IGLD (feet)')"
   ]
  },
  {
   "cell_type": "markdown",
   "metadata": {},
   "source": [
    "### Mean Difference"
   ]
  },
  {
   "cell_type": "code",
   "execution_count": null,
   "metadata": {},
   "outputs": [],
   "source": [
    "df['water_level_mean_diff'] = df.water_level - df.water_level.mean()\n",
    "ax_mean_diff = df.plot(\n",
    "    x='date_time',\n",
    "    y='water_level_mean_diff',\n",
    "    title='Lake Superior Levels (IGLD 1985)',\n",
    "    legend=False,\n",
    ")\n",
    "ax_mean_diff.set_xlabel('Days from June 26, 2017')\n",
    "ax_mean_diff.set_ylabel('Water Level Mean Diff IGLD (feet)')"
   ]
  },
  {
   "cell_type": "markdown",
   "metadata": {},
   "source": [
    "## Further Learning\n",
    "* #python channel on [Tech People UMN Slack](https://tech-people-umn.slack.com/)\n",
    "* [UMN Tech People Coworking](https://umnhackerhours.github.io/) every Wednesday afternoon!\n",
    "* [Dive Into Python](https://www.cmi.ac.in/~madhavan/courses/prog2-2012/docs/diveintopython3/index.html)\n",
    "* [Learn Python the Hard Way](https://learnpythonthehardway.org/)\n",
    "* [Official Python Documentation](https://docs.python.org/3/index.html)"
   ]
  },
  {
   "cell_type": "markdown",
   "metadata": {},
   "source": [
    "## Questions?"
   ]
  },
  {
   "cell_type": "markdown",
   "metadata": {},
   "source": [
    "## Thank you!"
   ]
  }
 ],
 "metadata": {
  "kernelspec": {
   "display_name": "",
   "name": ""
  },
  "language_info": {
   "codemirror_mode": {
    "name": "ipython",
    "version": 3
   },
   "file_extension": ".py",
   "mimetype": "text/x-python",
   "name": "python",
   "nbconvert_exporter": "python",
   "pygments_lexer": "ipython3",
   "version": "3.7.3"
  }
 },
 "nbformat": 4,
 "nbformat_minor": 2
}
